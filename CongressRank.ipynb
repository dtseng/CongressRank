{
 "cells": [
  {
   "cell_type": "code",
   "execution_count": 23,
   "metadata": {
    "collapsed": true
   },
   "outputs": [],
   "source": [
    "import os\n",
    "import requests\n",
    "KEY = '91mTqXFEeSaCIbjC0fuaB1RABk4HANqS4I91qRBN'\n",
    "KEY2 = 'flLQZGa0kx8opciUA6M7R9iLPwfFPj5yFKKlCiVb'\n",
    "MOST_RECENT_HR_BILL = 1490\n",
    "MOST_RECENT_S_BILL = 606"
   ]
  },
  {
   "cell_type": "code",
   "execution_count": 109,
   "metadata": {
    "collapsed": false
   },
   "outputs": [],
   "source": [
    "def getJSON(webpage):\n",
    "    headers = {\n",
    "        'X-API-Key': KEY\n",
    "    }\n",
    "    r = requests.get(webpage, headers=headers)\n",
    "    return r.json()\n",
    "\n",
    "def getSponsors(bill_id, congress):\n",
    "    '''Returns (PrimarySponsor, [cosponsors]) for specified bill_id and congress strings. Returns () if faulty'''\n",
    "    edge = getJSON('https://api.propublica.org/congress/v1/' + str(congress) + '/bills/' + bill_id + '/cosponsors.json')\n",
    "    if edge['status'] == 'OK':\n",
    "        return (edge['results'][0]['sponsor_id'], [cosponsor['cosponsor_id'] for cosponsor in edge['results'][0]['cosponsors']])\n",
    "    else:\n",
    "        return ()\n",
    "    \n",
    "def getMembers(congress):\n",
    "    '''takes congress session and Returns dictioanry of congress member ids with value 0'''\n",
    "    senate_members = getJSON('https://api.propublica.org/congress/v1/'+ str(congress) +'/senate/members.json')\n",
    "    house_members = getJSON('https://api.propublica.org/congress/v1/'+ str(congress) +'/house/members.json')\n",
    "    senateList, houseList = [],[]\n",
    "    if senate_members['status'] == 'OK':\n",
    "        senateList = [(senator['id'],0) for senator in senate_members['results'][0]['members']]\n",
    "        print('senate members', len(senateList))\n",
    "    if house_members['status'] == 'OK':\n",
    "        houseList = [(rep['id'],0) for rep in house_members['results'][0]['members']]\n",
    "        print('house members', len(houseList))\n",
    "    return dict(senateList + houseList)\n",
    "    \n",
    "    \n",
    "def buildGraph(newest_hr_bill, newest_s_bill, congress):\n",
    "    members = getJSON(w)"
   ]
  },
  {
   "cell_type": "code",
   "execution_count": 110,
   "metadata": {
    "collapsed": false
   },
   "outputs": [
    {
     "name": "stdout",
     "output_type": "stream",
     "text": [
      "senate members 101\n",
      "house members 441\n"
     ]
    }
   ],
   "source": [
    "members = getMembers(115)"
   ]
  },
  {
   "cell_type": "code",
   "execution_count": 111,
   "metadata": {
    "collapsed": false
   },
   "outputs": [],
   "source": [
    "senators = senate_members = getJSON('https://api.propublica.org/congress/v1/'+ '115' +'/senate/members.json')"
   ]
  },
  {
   "cell_type": "code",
   "execution_count": 123,
   "metadata": {
    "collapsed": false
   },
   "outputs": [
    {
     "ename": "KeyError",
     "evalue": "'Inoffice'",
     "output_type": "error",
     "traceback": [
      "\u001b[1;31m---------------------------------------------------------------------------\u001b[0m",
      "\u001b[1;31mKeyError\u001b[0m                                  Traceback (most recent call last)",
      "\u001b[1;32m<ipython-input-123-fbc375e463dd>\u001b[0m in \u001b[0;36m<module>\u001b[1;34m()\u001b[0m\n\u001b[1;32m----> 1\u001b[1;33m \u001b[1;33m[\u001b[0m\u001b[0msen\u001b[0m\u001b[1;33m[\u001b[0m\u001b[1;34m'Inoffice'\u001b[0m\u001b[1;33m]\u001b[0m \u001b[1;32mfor\u001b[0m \u001b[0msen\u001b[0m \u001b[1;32min\u001b[0m \u001b[0msenators\u001b[0m\u001b[1;33m[\u001b[0m\u001b[1;34m'results'\u001b[0m\u001b[1;33m]\u001b[0m\u001b[1;33m[\u001b[0m\u001b[1;36m0\u001b[0m\u001b[1;33m]\u001b[0m\u001b[1;33m[\u001b[0m\u001b[1;34m'members'\u001b[0m\u001b[1;33m]\u001b[0m\u001b[1;33m]\u001b[0m\u001b[1;33m\u001b[0m\u001b[0m\n\u001b[0m",
      "\u001b[1;32m<ipython-input-123-fbc375e463dd>\u001b[0m in \u001b[0;36m<listcomp>\u001b[1;34m(.0)\u001b[0m\n\u001b[1;32m----> 1\u001b[1;33m \u001b[1;33m[\u001b[0m\u001b[0msen\u001b[0m\u001b[1;33m[\u001b[0m\u001b[1;34m'Inoffice'\u001b[0m\u001b[1;33m]\u001b[0m \u001b[1;32mfor\u001b[0m \u001b[0msen\u001b[0m \u001b[1;32min\u001b[0m \u001b[0msenators\u001b[0m\u001b[1;33m[\u001b[0m\u001b[1;34m'results'\u001b[0m\u001b[1;33m]\u001b[0m\u001b[1;33m[\u001b[0m\u001b[1;36m0\u001b[0m\u001b[1;33m]\u001b[0m\u001b[1;33m[\u001b[0m\u001b[1;34m'members'\u001b[0m\u001b[1;33m]\u001b[0m\u001b[1;33m]\u001b[0m\u001b[1;33m\u001b[0m\u001b[0m\n\u001b[0m",
      "\u001b[1;31mKeyError\u001b[0m: 'Inoffice'"
     ]
    }
   ],
   "source": [
    "[sen['Inoffice'] for sen in senators['results'][0]['members']]"
   ]
  }
 ],
 "metadata": {
  "anaconda-cloud": {},
  "kernelspec": {
   "display_name": "Python 3",
   "language": "python",
   "name": "python3"
  },
  "language_info": {
   "codemirror_mode": {
    "name": "ipython",
    "version": 3
   },
   "file_extension": ".py",
   "mimetype": "text/x-python",
   "name": "python",
   "nbconvert_exporter": "python",
   "pygments_lexer": "ipython3",
   "version": "3.5.2"
  }
 },
 "nbformat": 4,
 "nbformat_minor": 1
}
