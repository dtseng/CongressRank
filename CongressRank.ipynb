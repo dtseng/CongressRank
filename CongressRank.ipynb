{
 "cells": [
  {
   "cell_type": "code",
   "execution_count": 23,
   "metadata": {
    "collapsed": true
   },
   "outputs": [],
   "source": [
    "import os\n",
    "import requests\n",
    "KEY = '91mTqXFEeSaCIbjC0fuaB1RABk4HANqS4I91qRBN'\n",
    "MOST_RECENT_HR_BILL = 1490\n",
    "MOST_RECENT_S_BILL = 606\n",
    "\n",
    "\n"
   ]
  },
  {
   "cell_type": "code",
   "execution_count": 44,
   "metadata": {
    "collapsed": false
   },
   "outputs": [
    {
     "data": {
      "text/plain": [
       "{'copyright': 'Copyright (c) 2017 Pro Publica Inc. All Rights Reserved.',\n",
       " 'results': [{'bill': 'S.606',\n",
       "   'committees': 'Senate Finance Committee',\n",
       "   'congress': '115',\n",
       "   'cosponsors': [{'cosponsor_id': 'B001277',\n",
       "     'date': '2017-03-09',\n",
       "     'name': 'Richard Blumenthal'},\n",
       "    {'cosponsor_id': 'K000367', 'date': '2017-03-09', 'name': 'Amy Klobuchar'},\n",
       "    {'cosponsor_id': 'G000555',\n",
       "     'date': '2017-03-09',\n",
       "     'name': 'Kirsten E. Gillibrand'},\n",
       "    {'cosponsor_id': 'C000141',\n",
       "     'date': '2017-03-09',\n",
       "     'name': 'Benjamin L. Cardin'},\n",
       "    {'cosponsor_id': 'C001070', 'date': '2017-03-09', 'name': 'Bob Casey'},\n",
       "    {'cosponsor_id': 'B000944',\n",
       "     'date': '2017-03-09',\n",
       "     'name': 'Sherrod  Brown'}],\n",
       "   'cosponsors_by_party': [{'party': {'id': 'D', 'sponsors': '6'}}],\n",
       "   'house_passage_vote': '',\n",
       "   'introduced_date': '2017-03-09',\n",
       "   'latest_major_action': 'Read twice and referred to the Committee on Finance.',\n",
       "   'latest_major_action_date': '2017-03-09',\n",
       "   'number_of_cosponsors': '6',\n",
       "   'senate_passage_vote': '',\n",
       "   'sponsor': 'Bill Nelson',\n",
       "   'sponsor_id': 'N000032',\n",
       "   'title': 'A bill to amend the Internal Revenue Code of 1986 to prevent taxpayer identity theft and tax refund fraud, and for other purposes.',\n",
       "   'url_number': 's606'}],\n",
       " 'status': 'OK'}"
      ]
     },
     "execution_count": 44,
     "metadata": {},
     "output_type": "execute_result"
    }
   ],
   "source": [
    "def getJSON(webpage):\n",
    "    headers = {\n",
    "        'X-API-Key': KEY\n",
    "    }\n",
    "    r = requests.get(webpage, headers=headers)\n",
    "    return r.json()\n",
    "\n",
    "getJSON('https://api.propublica.org/congress/v1/115/bills/s606/cosponsors.json')\n"
   ]
  },
  {
   "cell_type": "code",
   "execution_count": null,
   "metadata": {
    "collapsed": true
   },
   "outputs": [],
   "source": []
  }
 ],
 "metadata": {
  "anaconda-cloud": {},
  "kernelspec": {
   "display_name": "Python [conda root]",
   "language": "python",
   "name": "conda-root-py"
  },
  "language_info": {
   "codemirror_mode": {
    "name": "ipython",
    "version": 3
   },
   "file_extension": ".py",
   "mimetype": "text/x-python",
   "name": "python",
   "nbconvert_exporter": "python",
   "pygments_lexer": "ipython3",
   "version": "3.5.2"
  }
 },
 "nbformat": 4,
 "nbformat_minor": 1
}
